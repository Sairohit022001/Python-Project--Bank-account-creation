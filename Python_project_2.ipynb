{
  "nbformat": 4,
  "nbformat_minor": 0,
  "metadata": {
    "colab": {
      "provenance": []
    },
    "kernelspec": {
      "name": "python3",
      "display_name": "Python 3"
    },
    "language_info": {
      "name": "python"
    }
  },
  "cells": [
    {
      "cell_type": "code",
      "execution_count": null,
      "metadata": {
        "colab": {
          "base_uri": "https://localhost:8080/"
        },
        "id": "8AsnKgA-MA2C",
        "outputId": "6a8a53ef-e9da-446c-b8c9-1546b432a5cf"
      },
      "outputs": [
        {
          "output_type": "stream",
          "name": "stdout",
          "text": [
            "Enter your option: 1\n",
            "Enter your name: BUKKA SAI ROHITH \n",
            "Enter your age23\n",
            "Enter your option: 1\n",
            "Enter your mobile number1231232123\n",
            "Enter your verification code sent to your mobile number123123\n",
            "Greetings from Vamsi International Bank. A account on BUKKA SAI ROHITH  , with 1231232123.0 has been created successfully.\n",
            "Enter your account number123123123\n",
            "Enter your account number\n",
            "Enter your amount222\n",
            "Enter your amount\n",
            "Amount withdrawn successfully\n",
            "Vamsi International Bank 123123123.0 withdrawl with Rs 222.0 successfully.\n",
            "Enter your account number123123123123\n",
            "Enter your amount123\n",
            "Enter your amount\n",
            "Amount deposited successfully\n",
            "Vamsi International Bank 123123123123.0 Deposited with Rs 123.0 successfully.\n",
            "Enter your account number123\n",
            "Bank statement\n",
            "Vamsi International Bank 123.0 request of bank statement is successfull.\n",
            "Enter your account number123\n",
            "Balance\n",
            "Vamsi International Bank 123.0 remaining balance is Rs 123.0.\n",
            "Thank you for using Vamsi International Bank\n",
            "Have a nice day\n"
          ]
        }
      ],
      "source": [
        "#Bank Account creation\n",
        "\n",
        "Bank_name = \"Vamsi International Bank\"\n",
        "\n",
        "Option_1 = \"Account opening\"\n",
        "Option_2 = \"Withdrawal\"\n",
        "Option_3 = \"Deposit\"\n",
        "Option_4 = \"Bank statement\"\n",
        "Option_5 = \"Balance\"\n",
        "\n",
        "choice = input(\"Enter your option: \")\n",
        "if choice == Option_1:\n",
        "    print(\"Account opening\")\n",
        "Account_Name = input(\"Enter your name: \")\n",
        "Age = float(input(\"Enter your age\"))\n",
        "\n",
        "Identity_proof_selection_1 = \"Aadhar card\"\n",
        "Identity_proof_selection_2 = \"Pan card\"\n",
        "Identity_proof_selection_3 = \"Voter id\"\n",
        "Identity_proof_selection_4 = \"Passport\"\n",
        "\n",
        "choice = input(\"Enter your option: \")\n",
        "if choice == Identity_proof_selection_1:\n",
        "  print(\"Enter your Aadhar card number\")\n",
        "Mobile_number = float(input(\"Enter your mobile number\"))\n",
        "Verification_code = float(input(\"Enter your verification code sent to your mobile number\"))\n",
        "print(f\"Greetings from Vamsi International Bank. A account on {Account_Name} , with {Mobile_number} has been created successfully.\")\n",
        "\n",
        "if choice == Option_2:\n",
        "    print(\"Withdrawal\")\n",
        "Account_number = float(input(\"Enter your account number\"))\n",
        "print(\"Enter your account number\")\n",
        "Amount = float(input(\"Enter your amount\"))\n",
        "print(\"Enter your amount\")\n",
        "print(\"Amount withdrawn successfully\")\n",
        "print(f\"Vamsi International Bank {Account_number} withdrawl with Rs {Amount} successfully.\")\n",
        "\n",
        "if choice == Option_3:\n",
        "        print(\"Deposit\")\n",
        "Account_number = float(input(\"Enter your account number\"))\n",
        "Amount = float(input(\"Enter your amount\"))\n",
        "print(\"Enter your amount\")\n",
        "print(\"Amount deposited successfully\")\n",
        "print(f\"Vamsi International Bank {Account_number} Deposited with Rs {Amount} successfully.\")\n",
        "\n",
        "\n",
        "if choice == Option_4:\n",
        "            print(\"Bank statement\")\n",
        "Account_number = float(input(\"Enter your account number\"))\n",
        "print(\"Bank statement\")\n",
        "print(f\"Vamsi International Bank {Account_number} request of bank statement is successfull.\")\n",
        "\n",
        "if choice == Option_5:\n",
        "                print(\"Balance\")\n",
        "Account_number = float(input(\"Enter your account number\"))\n",
        "print(\"Balance\")\n",
        "print(f\"Vamsi International Bank {Account_number} remaining balance is Rs {Amount}.\")\n",
        "\n",
        "print(\"Thank you for using Vamsi International Bank\")\n",
        "print(\"Have a nice day\")\n",
        "\n",
        "\n",
        "\n",
        "\n",
        "\n",
        "\n",
        "\n",
        "\n",
        "\n",
        "\n"
      ]
    }
  ]
}